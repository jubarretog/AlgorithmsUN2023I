{
  "nbformat": 4,
  "nbformat_minor": 0,
  "metadata": {
    "colab": {
      "provenance": []
    },
    "kernelspec": {
      "name": "python3",
      "display_name": "Python 3"
    },
    "language_info": {
      "name": "python"
    }
  },
  "cells": [
    {
      "cell_type": "markdown",
      "source": [
        "# **Partitions**\n",
        "\n",
        "## **Names:** Sebastian Molina Gonzalez, Juan Sebastian Vahos Duque, Juan David Barreto Grattz.\n",
        "## **UN Ids:** semolinag, jsvahosd, jubarretog\n",
        "## **List numbers:** 20, 31, 3\n",
        "## **Group :** 3\n",
        "\n",
        "_If you use an existing codes include the reference, link and a explanation of how the code works._"
      ],
      "metadata": {
        "id": "138HHQxvs_U7"
      }
    },
    {
      "cell_type": "markdown",
      "source": [
        "## 1. Write a code that produces the Bell numbers that count the possible partitions of a set fo $n$ elements.\n",
        "\n",
        "**Hints**:\n",
        "-  Output the n-th Bell Number - [stackexchange](https://codegolf.stackexchange.com/questions/132379/output-the-n-th-bell-number).\n",
        "\n",
        "- Bell number [wikipedia](https://en.wikipedia.org/wiki/Bell_number)\n",
        "\n",
        "\n",
        "\n",
        "\n"
      ],
      "metadata": {
        "id": "rdu7PcWttfnz"
      }
    },
    {
      "cell_type": "code",
      "source": [
        "def bell_number(n):\n",
        "  s = [[0 for k in range(n+1)] for k in range(n+1)]\n",
        "  for i in range(n+1):\n",
        "      for j in range(n+1):\n",
        "          if j > i:\n",
        "              continue\n",
        "          elif(i==j):\n",
        "              s[i][j] = 1\n",
        "          elif(i==0 or j==0):\n",
        "              s[i][j]=0\n",
        "          else:\n",
        "              s[i][j] = j*s[i-1][j] + s[i-1][j-1]\n",
        "  ans = 0\n",
        "  for i in range(0,n+1):\n",
        "      ans+=s[n][i]\n",
        "  return ans\n",
        "\n",
        "n= int(input(\"Insert the position of the bell number you want to know: \"))\n",
        "print(\"This is the\", n , \"bell number:\", bell_number(n))"
      ],
      "metadata": {
        "id": "WNo88vvfDFBn",
        "colab": {
          "base_uri": "https://localhost:8080/"
        },
        "outputId": "a08334b8-46a2-4e99-b292-5814985b4250"
      },
      "execution_count": null,
      "outputs": [
        {
          "output_type": "stream",
          "name": "stdout",
          "text": [
            "Insert the position of the bell number you want to know: 5\n",
            "This is the 5 bell number: 52\n"
          ]
        }
      ]
    },
    {
      "cell_type": "markdown",
      "source": [
        "## 2.Write a code that that produces the list of all partititions of the set of $[n]=\\{ 1,2,3,4 \\cdots , n-1, n\\}$ with $0 \\le n \\le 10$.\n",
        "\n",
        "**Hints**:\n",
        "- Set partitions in Python - https://stackoverflow.com/questions/19368375/set-partitions-in-python\n",
        "- Generate all partition of a set - https://www.geeksforgeeks.org/generate-all-partition-of-a-set/"
      ],
      "metadata": {
        "id": "vSafufOkvDht"
      }
    },
    {
      "cell_type": "code",
      "source": [
        "def print_partition(ans):\n",
        "\t\"\"\"\n",
        "\tFunction to print a partition\n",
        "\t\"\"\"\n",
        "\tfor i in ans:\n",
        "\t\tprint(\"{\", end=\" \")\n",
        "\t\tfor element in i:\n",
        "\t\t\tprint(element, end=\" \")\n",
        "\t\tprint(\"}\", end=\" \")\n",
        "\tprint()\n",
        "\n",
        "\n",
        "def partition_set(set, index, ans):\n",
        "\t\"\"\"\n",
        "\tFunction to generate all partitions\n",
        "\t\"\"\"\n",
        "\tif index == len(set):\n",
        "\t\t# If we have considered all elements in the set, print the partition\n",
        "\t\tprint_partition(ans)\n",
        "\t\treturn\n",
        "\n",
        "\t# For each subset in the partition, add the current element to it and recall\n",
        "\tfor i in range(len(ans)):\n",
        "\t\tans[i].append(set[index])\n",
        "\t\tpartition_set(set, index + 1, ans)\n",
        "\t\tans[i].pop()\n",
        "\n",
        "\t# Add the current element as a singleton subset and recall\n",
        "\tans.append([set[index]])\n",
        "\tpartition_set(set, index + 1, ans)\n",
        "\tans.pop()\n",
        "\n",
        "\n",
        "def all_partitions(set):\n",
        "\t\"\"\"\n",
        "\tFunction to generate all partitions for a given set\n",
        "\t\"\"\"\n",
        "\tans = []\n",
        "\tpartition_set(set, 0, ans)\n",
        "\n",
        "\n",
        "# Main function\n",
        "\n",
        "# The size of the set\n",
        "n = int(input(\"Ingrese un número entre 0 y 10 para generar sus particiones: \"))\n",
        "\n",
        "# Initialize the set as {1, 2, ..., n}\n",
        "set = list(range(1, n + 1))\n",
        "\n",
        "print(\"Las particiones del set serán:\")\n",
        "# Generate all partitions of the set\n",
        "all_partitions(set)\n"
      ],
      "metadata": {
        "id": "CMt1xuAZEbwv",
        "colab": {
          "base_uri": "https://localhost:8080/"
        },
        "outputId": "5b4a2a34-0184-46c8-f9c9-91f211d2008e"
      },
      "execution_count": null,
      "outputs": [
        {
          "output_type": "stream",
          "name": "stdout",
          "text": [
            "Ingrese un número entre 0 y 10 para generar sus particiones: 5\n",
            "Las particiones del set serán:\n",
            "{ 1 2 3 4 5 } \n",
            "{ 1 2 3 4 } { 5 } \n",
            "{ 1 2 3 5 } { 4 } \n",
            "{ 1 2 3 } { 4 5 } \n",
            "{ 1 2 3 } { 4 } { 5 } \n",
            "{ 1 2 4 5 } { 3 } \n",
            "{ 1 2 4 } { 3 5 } \n",
            "{ 1 2 4 } { 3 } { 5 } \n",
            "{ 1 2 5 } { 3 4 } \n",
            "{ 1 2 } { 3 4 5 } \n",
            "{ 1 2 } { 3 4 } { 5 } \n",
            "{ 1 2 5 } { 3 } { 4 } \n",
            "{ 1 2 } { 3 5 } { 4 } \n",
            "{ 1 2 } { 3 } { 4 5 } \n",
            "{ 1 2 } { 3 } { 4 } { 5 } \n",
            "{ 1 3 4 5 } { 2 } \n",
            "{ 1 3 4 } { 2 5 } \n",
            "{ 1 3 4 } { 2 } { 5 } \n",
            "{ 1 3 5 } { 2 4 } \n",
            "{ 1 3 } { 2 4 5 } \n",
            "{ 1 3 } { 2 4 } { 5 } \n",
            "{ 1 3 5 } { 2 } { 4 } \n",
            "{ 1 3 } { 2 5 } { 4 } \n",
            "{ 1 3 } { 2 } { 4 5 } \n",
            "{ 1 3 } { 2 } { 4 } { 5 } \n",
            "{ 1 4 5 } { 2 3 } \n",
            "{ 1 4 } { 2 3 5 } \n",
            "{ 1 4 } { 2 3 } { 5 } \n",
            "{ 1 5 } { 2 3 4 } \n",
            "{ 1 } { 2 3 4 5 } \n",
            "{ 1 } { 2 3 4 } { 5 } \n",
            "{ 1 5 } { 2 3 } { 4 } \n",
            "{ 1 } { 2 3 5 } { 4 } \n",
            "{ 1 } { 2 3 } { 4 5 } \n",
            "{ 1 } { 2 3 } { 4 } { 5 } \n",
            "{ 1 4 5 } { 2 } { 3 } \n",
            "{ 1 4 } { 2 5 } { 3 } \n",
            "{ 1 4 } { 2 } { 3 5 } \n",
            "{ 1 4 } { 2 } { 3 } { 5 } \n",
            "{ 1 5 } { 2 4 } { 3 } \n",
            "{ 1 } { 2 4 5 } { 3 } \n",
            "{ 1 } { 2 4 } { 3 5 } \n",
            "{ 1 } { 2 4 } { 3 } { 5 } \n",
            "{ 1 5 } { 2 } { 3 4 } \n",
            "{ 1 } { 2 5 } { 3 4 } \n",
            "{ 1 } { 2 } { 3 4 5 } \n",
            "{ 1 } { 2 } { 3 4 } { 5 } \n",
            "{ 1 5 } { 2 } { 3 } { 4 } \n",
            "{ 1 } { 2 5 } { 3 } { 4 } \n",
            "{ 1 } { 2 } { 3 5 } { 4 } \n",
            "{ 1 } { 2 } { 3 } { 4 5 } \n",
            "{ 1 } { 2 } { 3 } { 4 } { 5 } \n"
          ]
        }
      ]
    },
    {
      "cell_type": "markdown",
      "source": [
        "## 3. Write a code that produces the list of all partititions of the set of $[n]=\\{ 1,2,3,4\\cdots , n-1, n\\}$ with $0 \\le n \\le 10$ and the sum of elements of the partition which is the a constant $\\frac{n(n+1)}{2}$."
      ],
      "metadata": {
        "id": "6lXHDPmHCZ15"
      }
    },
    {
      "cell_type": "markdown",
      "source": [
        "Código sacado y modificado de: https://stackoverflow.com/questions/19368375/set-partitions-in-python\n",
        "\n",
        "<h1>Explicación Código:\n",
        "\n",
        "\n",
        "<ul><li>Definición de la función partition:\n",
        "\n",
        "Esta función toma una colección como entrada y produce todas las particiones posibles de esa colección.\n",
        "\n",
        "<li> <h2>Manejo de la colección de tamaño 1:\n",
        "\n",
        "Si la longitud de la colección es 1, significa que solo hay un elemento en la colección. En este caso, la función devuelve una lista que contiene esa colección como su única partición. Esto se hace con <code>yield [collection]</code>.\n",
        "<li>Manejo de colecciones de tamaño mayor a 1:\n",
        "\n",
        "Si la longitud de la colección es mayor que 1, el código procede a tomar el primer elemento de la colección <code>(first)</code>.\n",
        "Luego, itera a través de todas las particiones posibles de la colección restante (desde el segundo elemento en adelante). Esto se hace llamando recursivamente a la función partition con la colección restante <code>(partition(collection[1:]))</code>.\n",
        "\n",
        "Por cada partición más pequeña <code>(smaller)</code>, el código realiza dos acciones:\n",
        "<ul>\n",
        "<li>Insertar first en cada subconjunto de la partición más pequeña:\n",
        "Itera a través de los subconjuntos de la partición más pequeña <code>(smaller)</code> y coloca first en cada uno de ellos. Esto se hace con un bucle <code>for.</code>\n",
        "<li>Crear una partición adicional que contiene solo <code>first</code>:\n",
        "Agrega una partición adicional que contiene solo el elemento first. Esto se hace mediante <code>yield [[first]]</code>.\n",
        "</ul>\n",
        "<li>Suma de particiones:\n",
        "\n",
        "Como es una lista de listas: en el bucle for del la funcion <code>imprimir_particiones(something)</code>, se itera cada lista de particiones y se hace la suma de cada partición y se agrega a la lista suma con la funcion <code>sum()</code>\n",
        "\n",
        "<li>Bucle de impresión:\n",
        "\n",
        "Después de definir la función partition, el código crea una lista llamada something que contiene números del 1 al 4.\n",
        "Luego, utiliza un bucle for para iterar sobre todas las particiones generadas por la función partition.\n",
        "Dentro del bucle, imprime el número de la partición <code>(n)</code> y la partición en sí misma, ordenada <code>(sorted(p))</code>\n",
        "En resumen, la función partition utiliza una técnica recursiva para generar todas las particiones posibles de una colección dada. Luego, el código principal imprime estas particiones numeradas y ordenadas.\n",
        "\n",
        "\n"
      ],
      "metadata": {
        "id": "FEQly45hmYHf"
      }
    },
    {
      "cell_type": "code",
      "source": [
        "def partition(collection):\n",
        "\n",
        "    if len(collection) == 1:\n",
        "        yield [ collection ]\n",
        "        return\n",
        "\n",
        "    first = collection[0]\n",
        "    for smaller in partition(collection[1:]):\n",
        "\n",
        "        # insert `first` in each of the subpartition's subsets\n",
        "        for n, subset in enumerate(smaller):\n",
        "            yield smaller[:n] + [[ first ] + subset]  + smaller[n+1:]\n",
        "        # put `first` in its own subset\n",
        "        yield [ [ first ] ] + smaller\n",
        "def imprimir_particiones(something):\n",
        "  suma=[]\n",
        "  for n, p in enumerate(partition(something), 1):\n",
        "      print(\"Numero permutacion =\",n, sorted(p))\n",
        "      for i in sorted(p):\n",
        "          suma.append(sum(i))\n",
        "      print(\"suma de cada particion: \",suma)\n",
        "      suma=[]\n",
        "\n",
        "# Main function\n",
        "\n",
        "# The size of the set\n",
        "n = int(input(\"Ingrese un número entre 0 y 10 para generar sus particiones: \"))\n",
        "\n",
        "# Initialize the set as {1, 2, ..., n}\n",
        "something = list(range(1,n+1))\n",
        "\n",
        "print(\"Las particiones del set serán:\")\n",
        "imprimir_particiones(something)\n"
      ],
      "metadata": {
        "id": "bahIxhWdtfJG",
        "colab": {
          "base_uri": "https://localhost:8080/"
        },
        "outputId": "1adb3410-6857-48b8-d9e6-2d732bc1d8f2"
      },
      "execution_count": null,
      "outputs": [
        {
          "output_type": "stream",
          "name": "stdout",
          "text": [
            "Ingrese un número entre 0 y 10 para generar sus particiones: 3\n",
            "Las particiones del set serán:\n",
            "Numero permutacion = 1 [[1, 2, 3]]\n",
            "suma de cada particion:  [6]\n",
            "Numero permutacion = 2 [[1], [2, 3]]\n",
            "suma de cada particion:  [1, 5]\n",
            "Numero permutacion = 3 [[1, 2], [3]]\n",
            "suma de cada particion:  [3, 3]\n",
            "Numero permutacion = 4 [[1, 3], [2]]\n",
            "suma de cada particion:  [4, 2]\n",
            "Numero permutacion = 5 [[1], [2], [3]]\n",
            "suma de cada particion:  [1, 2, 3]\n"
          ]
        }
      ]
    }
  ]
}